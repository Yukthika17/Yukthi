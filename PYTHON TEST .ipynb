{
 "cells": [
  {
   "cell_type": "code",
   "execution_count": 19,
   "id": "03a2a8fa",
   "metadata": {},
   "outputs": [
    {
     "ename": "IndentationError",
     "evalue": "unexpected indent (Temp/ipykernel_7096/3009738374.py, line 2)",
     "output_type": "error",
     "traceback": [
      "\u001b[1;36m  File \u001b[1;32m\"C:\\Users\\DELLCO~1\\AppData\\Local\\Temp/ipykernel_7096/3009738374.py\"\u001b[1;36m, line \u001b[1;32m2\u001b[0m\n\u001b[1;33m    lenlength = len(lists)\u001b[0m\n\u001b[1;37m    ^\u001b[0m\n\u001b[1;31mIndentationError\u001b[0m\u001b[1;31m:\u001b[0m unexpected indent\n"
     ]
    }
   ],
   "source": [
    "# QST 8\n",
    "cum_list = [9,5,7,8,5]   \n",
    "    lenlength = len(lists)   \n",
    "    cum_list = [sum(lists[0:x:1]) for x in range(0, length+1)]   \n",
    "    return cum_list[1:]  \n",
    "  \n",
    "lists = [9,5,7,8,5]   \n",
    "print (Cumulative_sum(lists))"
   ]
  },
  {
   "cell_type": "code",
   "execution_count": 22,
   "id": "9ebb7bc1",
   "metadata": {},
   "outputs": [
    {
     "name": "stdout",
     "output_type": "stream",
     "text": [
      "Original List:\n",
      "['santa Maria', 'Hello World', 'Merry christmas', 'tHank You']\n",
      "List after capitalizing each word:\n",
      "['Santa Maria', 'Hello World', 'Merry Christmas', 'Thank You']\n"
     ]
    }
   ],
   "source": [
    "# QST 6\n",
    "input=['santa Maria', 'Hello World', 'Merry christmas','tHank You']\n",
    "print('Original List:')\n",
    "print(input)\n",
    "input = [i.title() for i in input]\n",
    "print('List after capitalizing each word:')\n",
    "print(input)"
   ]
  },
  {
   "cell_type": "code",
   "execution_count": 45,
   "id": "b2ef7392",
   "metadata": {},
   "outputs": [
    {
     "ename": "SyntaxError",
     "evalue": "EOL while scanning string literal (Temp/ipykernel_7096/2374230043.py, line 11)",
     "output_type": "error",
     "traceback": [
      "\u001b[1;36m  File \u001b[1;32m\"C:\\Users\\DELLCO~1\\AppData\\Local\\Temp/ipykernel_7096/2374230043.py\"\u001b[1;36m, line \u001b[1;32m11\u001b[0m\n\u001b[1;33m    lst1 = [['1,2,3,4,8], [2,3,8,5,6]]\u001b[0m\n\u001b[1;37m                                       ^\u001b[0m\n\u001b[1;31mSyntaxError\u001b[0m\u001b[1;31m:\u001b[0m EOL while scanning string literal\n"
     ]
    }
   ],
   "source": [
    "#QST 7\n",
    "def intersection(lst1, lst2): \n",
    "\n",
    "      \n",
    "\n",
    "    return [item for item in lst1 if item in lst2] \n",
    "\n",
    "              \n",
    "# Driver code \n",
    "\n",
    "lst1 = [['1,2,3,4,8], [2,3,8,5,6]] \n",
    "\n",
    "lst2 = [[8,4,5,3,7], [6,9,8,3], [9,12,3,76,8,4,6,21,1,6]] \n",
    "\n",
    "print(intersection(lst1, lst2))"
   ]
  },
  {
   "cell_type": "code",
   "execution_count": 41,
   "id": "7ab2bf51",
   "metadata": {},
   "outputs": [
    {
     "name": "stdout",
     "output_type": "stream",
     "text": [
      "254.45\n"
     ]
    }
   ],
   "source": [
    "# QST 2\n",
    "def solve(n):\n",
    "    dict = { 'Square': lambda a : a**2, \n",
    "         'Cube': lambda a : a**3, \n",
    "         'Squareroot': lambda a : a**(1/2)}\n",
    "    result = 0\n",
    "    for k in dict.keys():\n",
    "        result += dict[k](n)\n",
    "    return result\n",
    "    \n",
    "print(round(solve(6),2))"
   ]
  },
  {
   "cell_type": "code",
   "execution_count": 46,
   "id": "ef535fef",
   "metadata": {},
   "outputs": [
    {
     "data": {
      "text/plain": [
       "{'John': 7.44, 'Shelly': 10.75, 'Marry': 5.79}"
      ]
     },
     "execution_count": 46,
     "metadata": {},
     "output_type": "execute_result"
    }
   ],
   "source": [
    "#QST 5\n",
    "WeightOnEarth = {'John':45, 'Shelly':65, 'Marry':35}\n",
    "GMoon = 1.622\n",
    "GEarth = 9.81\n",
    "dict(map(lambda x : (x, round((WeightOnEarth[x]/GEarth)*GMoon, 2)), WeightOnEarth))"
   ]
  },
  {
   "cell_type": "code",
   "execution_count": 47,
   "id": "ed1a735d",
   "metadata": {},
   "outputs": [
    {
     "name": "stdout",
     "output_type": "stream",
     "text": [
      "82.0\n"
     ]
    }
   ],
   "source": [
    "def value(n):\n",
    "    d = { 'Square': lambda a : a**2, \n",
    "         'Cube': lambda a : a**3, \n",
    "         'Squareroot': lambda a : a**(1/2)}       \n",
    "    sum = 0\n",
    "    for key in d.keys():\n",
    "        sum += d[key](n)\n",
    "    return sum\n",
    "    \n",
    "print(value(4))"
   ]
  },
  {
   "cell_type": "code",
   "execution_count": 48,
   "id": "8adc69a3",
   "metadata": {},
   "outputs": [
    {
     "name": "stdout",
     "output_type": "stream",
     "text": [
      "output ['1997']\n",
      "output ['1997', '2011']\n",
      "output ['1997', '2011', '1993']\n",
      "output ['1997', '2011', '1993', '2020']\n"
     ]
    }
   ],
   "source": [
    "#QST 10\n",
    "datelists=['17-12-1997','22-04-2011','01-05-1993','19-06-2020']\n",
    "out=[]\n",
    "for r in datelists:\n",
    "    d=r.split(\"-\")\n",
    "    out.append(d[2])\n",
    "    print(\"output\",out)"
   ]
  },
  {
   "cell_type": "code",
   "execution_count": null,
   "id": "7ab87033",
   "metadata": {},
   "outputs": [],
   "source": []
  }
 ],
 "metadata": {
  "kernelspec": {
   "display_name": "Python 3 (ipykernel)",
   "language": "python",
   "name": "python3"
  },
  "language_info": {
   "codemirror_mode": {
    "name": "ipython",
    "version": 3
   },
   "file_extension": ".py",
   "mimetype": "text/x-python",
   "name": "python",
   "nbconvert_exporter": "python",
   "pygments_lexer": "ipython3",
   "version": "3.9.7"
  }
 },
 "nbformat": 4,
 "nbformat_minor": 5
}
