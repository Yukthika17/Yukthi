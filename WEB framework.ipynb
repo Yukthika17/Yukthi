{
 "cells": [
  {
   "cell_type": "code",
   "execution_count": null,
   "id": "ee50b171",
   "metadata": {},
   "outputs": [],
   "source": [
    "pip install django\n",
    "pip install django_rest_framework"
   ]
  },
  {
   "cell_type": "code",
   "execution_count": null,
   "id": "82e56a92",
   "metadata": {},
   "outputs": [],
   "source": [
    "django-admin startproject todo"
   ]
  },
  {
   "cell_type": "code",
   "execution_count": null,
   "id": "bd8c9507",
   "metadata": {},
   "outputs": [],
   "source": [
    "django-admin startapp todo_api"
   ]
  },
  {
   "cell_type": "code",
   "execution_count": null,
   "id": "9652cb44",
   "metadata": {},
   "outputs": [],
   "source": [
    "python manage.py migrate"
   ]
  },
  {
   "cell_type": "code",
   "execution_count": null,
   "id": "027e105a",
   "metadata": {},
   "outputs": [],
   "source": [
    "INSTALLED_APPS = [\n",
    "    'django.contrib.admin',\n",
    "    'django.contrib.auth',\n",
    "    'django.contrib.contenttypes',\n",
    "    'django.contrib.sessions',\n",
    "    'django.contrib.messages',\n",
    "    'django.contrib.staticfiles',\n",
    "    'rest_framework',\n",
    "    'todo_api'\n",
    "]"
   ]
  },
  {
   "cell_type": "code",
   "execution_count": null,
   "id": "2f7d19d1",
   "metadata": {},
   "outputs": [],
   "source": [
    "from django.contrib import admin\n",
    "from django.urls import path, include\n",
    "from todo_api import urls as todo_urls\n",
    "\n",
    "urlpatterns = [\n",
    "    path('admin/', admin.site.urls),\n",
    "    path('api-auth/', include('rest_framework.urls')),\n",
    "    path('todos/', include(todo_urls)),\n",
    "]"
   ]
  },
  {
   "cell_type": "code",
   "execution_count": null,
   "id": "a68a613d",
   "metadata": {},
   "outputs": [],
   "source": []
  }
 ],
 "metadata": {
  "kernelspec": {
   "display_name": "Python 3 (ipykernel)",
   "language": "python",
   "name": "python3"
  },
  "language_info": {
   "codemirror_mode": {
    "name": "ipython",
    "version": 3
   },
   "file_extension": ".py",
   "mimetype": "text/x-python",
   "name": "python",
   "nbconvert_exporter": "python",
   "pygments_lexer": "ipython3",
   "version": "3.9.12"
  }
 },
 "nbformat": 4,
 "nbformat_minor": 5
}
