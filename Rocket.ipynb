{
 "cells": [
  {
   "cell_type": "code",
   "execution_count": 22,
   "id": "7764bf22",
   "metadata": {},
   "outputs": [],
   "source": [
    "import pandas as pd\n",
    "rocket=pd.read_excel(\"C:/Users/DeLL cOrE I5/Downloads/Flight .xlsx\")\n"
   ]
  },
  {
   "cell_type": "code",
   "execution_count": 23,
   "id": "edb13029",
   "metadata": {},
   "outputs": [
    {
     "data": {
      "text/html": [
       "<div>\n",
       "<style scoped>\n",
       "    .dataframe tbody tr th:only-of-type {\n",
       "        vertical-align: middle;\n",
       "    }\n",
       "\n",
       "    .dataframe tbody tr th {\n",
       "        vertical-align: top;\n",
       "    }\n",
       "\n",
       "    .dataframe thead th {\n",
       "        text-align: right;\n",
       "    }\n",
       "</style>\n",
       "<table border=\"1\" class=\"dataframe\">\n",
       "  <thead>\n",
       "    <tr style=\"text-align: right;\">\n",
       "      <th></th>\n",
       "      <th>Person</th>\n",
       "      <th>Item_Identifier</th>\n",
       "      <th>Length</th>\n",
       "      <th>Breadth</th>\n",
       "      <th>PaperQuality</th>\n",
       "      <th>Angle</th>\n",
       "      <th>Foldings</th>\n",
       "      <th>Windspeed</th>\n",
       "      <th>Dominanthand</th>\n",
       "      <th>Distance</th>\n",
       "    </tr>\n",
       "  </thead>\n",
       "  <tbody>\n",
       "    <tr>\n",
       "      <th>0</th>\n",
       "      <td>Kevin</td>\n",
       "      <td>Som</td>\n",
       "      <td>29.0</td>\n",
       "      <td>20.0</td>\n",
       "      <td>A</td>\n",
       "      <td>U</td>\n",
       "      <td>8.0</td>\n",
       "      <td>On</td>\n",
       "      <td>L</td>\n",
       "      <td>5.0</td>\n",
       "    </tr>\n",
       "    <tr>\n",
       "      <th>1</th>\n",
       "      <td>Kevin</td>\n",
       "      <td>kevin</td>\n",
       "      <td>23.0</td>\n",
       "      <td>16.0</td>\n",
       "      <td>B</td>\n",
       "      <td>U</td>\n",
       "      <td>8.0</td>\n",
       "      <td>On</td>\n",
       "      <td>L</td>\n",
       "      <td>5.0</td>\n",
       "    </tr>\n",
       "    <tr>\n",
       "      <th>2</th>\n",
       "      <td>Kevin</td>\n",
       "      <td>RR</td>\n",
       "      <td>NaN</td>\n",
       "      <td>18.0</td>\n",
       "      <td>A</td>\n",
       "      <td>L</td>\n",
       "      <td>10.0</td>\n",
       "      <td>On</td>\n",
       "      <td>R</td>\n",
       "      <td>6.0</td>\n",
       "    </tr>\n",
       "    <tr>\n",
       "      <th>3</th>\n",
       "      <td>Priya</td>\n",
       "      <td>Nithya</td>\n",
       "      <td>27.0</td>\n",
       "      <td>20.0</td>\n",
       "      <td>A</td>\n",
       "      <td>U</td>\n",
       "      <td>10.0</td>\n",
       "      <td>On</td>\n",
       "      <td>R</td>\n",
       "      <td>4.0</td>\n",
       "    </tr>\n",
       "    <tr>\n",
       "      <th>4</th>\n",
       "      <td>Priya</td>\n",
       "      <td>Priya</td>\n",
       "      <td>29.5</td>\n",
       "      <td>17.5</td>\n",
       "      <td>B</td>\n",
       "      <td>U</td>\n",
       "      <td>5.0</td>\n",
       "      <td>Off</td>\n",
       "      <td>R</td>\n",
       "      <td>8.0</td>\n",
       "    </tr>\n",
       "  </tbody>\n",
       "</table>\n",
       "</div>"
      ],
      "text/plain": [
       "  Person Item_Identifier  Length  Breadth PaperQuality Angle  Foldings  \\\n",
       "0  Kevin             Som    29.0     20.0            A     U       8.0   \n",
       "1  Kevin           kevin    23.0     16.0            B     U       8.0   \n",
       "2  Kevin              RR     NaN     18.0            A     L      10.0   \n",
       "3  Priya          Nithya    27.0     20.0            A     U      10.0   \n",
       "4  Priya           Priya    29.5     17.5            B     U       5.0   \n",
       "\n",
       "  Windspeed  Dominanthand  Distance  \n",
       "0         On            L       5.0  \n",
       "1         On            L       5.0  \n",
       "2         On            R       6.0  \n",
       "3         On            R       4.0  \n",
       "4        Off            R       8.0  "
      ]
     },
     "execution_count": 23,
     "metadata": {},
     "output_type": "execute_result"
    }
   ],
   "source": [
    "rocket.head()"
   ]
  },
  {
   "cell_type": "code",
   "execution_count": 24,
   "id": "29c405d2",
   "metadata": {},
   "outputs": [
    {
     "data": {
      "text/plain": [
       "(88, 10)"
      ]
     },
     "execution_count": 24,
     "metadata": {},
     "output_type": "execute_result"
    }
   ],
   "source": [
    "rocket.shape"
   ]
  },
  {
   "cell_type": "code",
   "execution_count": 25,
   "id": "38563170",
   "metadata": {},
   "outputs": [
    {
     "data": {
      "text/plain": [
       "Person              object\n",
       "Item_Identifier     object\n",
       "Length             float64\n",
       "Breadth            float64\n",
       "PaperQuality        object\n",
       "Angle               object\n",
       "Foldings           float64\n",
       "Windspeed           object\n",
       "Dominanthand        object\n",
       "Distance           float64\n",
       "dtype: object"
      ]
     },
     "execution_count": 25,
     "metadata": {},
     "output_type": "execute_result"
    }
   ],
   "source": [
    "rocket.dtypes"
   ]
  },
  {
   "cell_type": "code",
   "execution_count": 26,
   "id": "1f03d26d",
   "metadata": {},
   "outputs": [
    {
     "data": {
      "text/plain": [
       "Person              0\n",
       "Item_Identifier     0\n",
       "Length             17\n",
       "Breadth             0\n",
       "PaperQuality        8\n",
       "Angle               4\n",
       "Foldings            0\n",
       "Windspeed           0\n",
       "Dominanthand        0\n",
       "Distance            0\n",
       "dtype: int64"
      ]
     },
     "execution_count": 26,
     "metadata": {},
     "output_type": "execute_result"
    }
   ],
   "source": [
    "rocket.isnull().sum()\n"
   ]
  },
  {
   "cell_type": "code",
   "execution_count": 27,
   "id": "d913c5fc",
   "metadata": {},
   "outputs": [
    {
     "name": "stderr",
     "output_type": "stream",
     "text": [
      "C:\\Anconda\\lib\\site-packages\\seaborn\\_decorators.py:36: FutureWarning: Pass the following variable as a keyword arg: x. From version 0.12, the only valid positional argument will be `data`, and passing other arguments without an explicit keyword will result in an error or misinterpretation.\n",
      "  warnings.warn(\n"
     ]
    },
    {
     "data": {
      "text/plain": [
       "<AxesSubplot:xlabel='Person', ylabel='count'>"
      ]
     },
     "execution_count": 27,
     "metadata": {},
     "output_type": "execute_result"
    },
    {
     "data": {
      "image/png": "[encoded data removed]",
      "text/plain": [
       "<Figure size 432x288 with 1 Axes>"
      ]
     },
     "metadata": {
      "needs_background": "light"
     },
     "output_type": "display_data"
    }
   ],
   "source": [
    "import seaborn as sns\n",
    "sns.countplot(rocket.Person)"
   ]
  },
  {
   "cell_type": "code",
   "execution_count": 28,
   "id": "ae53d3aa",
   "metadata": {},
   "outputs": [
    {
     "data": {
      "text/plain": [
       "Priya      30\n",
       "Giri       22\n",
       "Kevin      18\n",
       "Shabana    18\n",
       "Name: Person, dtype: int64"
      ]
     },
     "execution_count": 28,
     "metadata": {},
     "output_type": "execute_result"
    }
   ],
   "source": [
    "rocket.Person.value_counts()"
   ]
  },
  {
   "cell_type": "code",
   "execution_count": 29,
   "id": "cc874235",
   "metadata": {},
   "outputs": [
    {
     "data": {
      "text/plain": [
       "Priya      30\n",
       "Giri       22\n",
       "Kevin      18\n",
       "Shabana    18\n",
       "Name: Person, dtype: int64"
      ]
     },
     "execution_count": 29,
     "metadata": {},
     "output_type": "execute_result"
    }
   ],
   "source": [
    "rocket.Person.value_counts()"
   ]
  },
  {
   "cell_type": "code",
   "execution_count": 30,
   "id": "082e6bca",
   "metadata": {},
   "outputs": [],
   "source": [
    "rocket.Length.fillna(rocket.Length.mean(),inplace=True)"
   ]
  },
  {
   "cell_type": "code",
   "execution_count": 31,
   "id": "0a865ec5",
   "metadata": {},
   "outputs": [
    {
     "data": {
      "text/plain": [
       "{'whiskers': [<matplotlib.lines.Line2D at 0x2b0fbf0b130>,\n",
       "  <matplotlib.lines.Line2D at 0x2b0fbf0b4c0>],\n",
       " 'caps': [<matplotlib.lines.Line2D at 0x2b0fbf0b850>,\n",
       "  <matplotlib.lines.Line2D at 0x2b0fbf0bbe0>],\n",
       " 'boxes': [<matplotlib.lines.Line2D at 0x2b0fbefcd60>],\n",
       " 'medians': [<matplotlib.lines.Line2D at 0x2b0fbf0bf70>],\n",
       " 'fliers': [<matplotlib.lines.Line2D at 0x2b0fbf15340>],\n",
       " 'means': []}"
      ]
     },
     "execution_count": 31,
     "metadata": {},
     "output_type": "execute_result"
    },
    {
     "data": {
      "image/png": "[encoded data removed]",
      "text/plain": [
       "<Figure size 432x288 with 1 Axes>"
      ]
     },
     "metadata": {
      "needs_background": "light"
     },
     "output_type": "display_data"
    }
   ],
   "source": [
    "import matplotlib.pyplot as plt\n",
    "plt.boxplot(rocket.Length)"
   ]
  },
  {
   "cell_type": "code",
   "execution_count": 32,
   "id": "80279bc4",
   "metadata": {},
   "outputs": [
    {
     "data": {
      "text/plain": [
       "0"
      ]
     },
     "execution_count": 32,
     "metadata": {},
     "output_type": "execute_result"
    }
   ],
   "source": [
    "rocket.Breadth.isnull().sum()"
   ]
  },
  {
   "cell_type": "code",
   "execution_count": 33,
   "id": "7955e115",
   "metadata": {},
   "outputs": [
    {
     "data": {
      "text/plain": [
       "{'whiskers': [<matplotlib.lines.Line2D at 0x2b0fbf67910>,\n",
       "  <matplotlib.lines.Line2D at 0x2b0fbf67ca0>],\n",
       " 'caps': [<matplotlib.lines.Line2D at 0x2b0fbf74070>,\n",
       "  <matplotlib.lines.Line2D at 0x2b0fbf74400>],\n",
       " 'boxes': [<matplotlib.lines.Line2D at 0x2b0fbf67580>],\n",
       " 'medians': [<matplotlib.lines.Line2D at 0x2b0fbf74790>],\n",
       " 'fliers': [<matplotlib.lines.Line2D at 0x2b0fbf74b20>],\n",
       " 'means': []}"
      ]
     },
     "execution_count": 33,
     "metadata": {},
     "output_type": "execute_result"
    },
    {
     "data": {
      "image/png": "[encoded data removed]",
      "text/plain": [
       "<Figure size 432x288 with 1 Axes>"
      ]
     },
     "metadata": {
      "needs_background": "light"
     },
     "output_type": "display_data"
    }
   ],
   "source": [
    "plt.boxplot(rocket.Breadth)\n"
   ]
  },
  {
   "cell_type": "code",
   "execution_count": 34,
   "id": "70d21391",
   "metadata": {},
   "outputs": [
    {
     "name": "stderr",
     "output_type": "stream",
     "text": [
      "C:\\Anconda\\lib\\site-packages\\seaborn\\_decorators.py:36: FutureWarning: Pass the following variable as a keyword arg: x. From version 0.12, the only valid positional argument will be `data`, and passing other arguments without an explicit keyword will result in an error or misinterpretation.\n",
      "  warnings.warn(\n"
     ]
    },
    {
     "data": {
      "text/plain": [
       "<AxesSubplot:xlabel='Breadth', ylabel='count'>"
      ]
     },
     "execution_count": 34,
     "metadata": {},
     "output_type": "execute_result"
    },
    {
     "data": {
      "image/png": "[encoded data removed]",
      "text/plain": [
       "<Figure size 432x288 with 1 Axes>"
      ]
     },
     "metadata": {
      "needs_background": "light"
     },
     "output_type": "display_data"
    }
   ],
   "source": [
    "sns.countplot(rocket.Breadth)"
   ]
  },
  {
   "cell_type": "code",
   "execution_count": 35,
   "id": "0cde1215",
   "metadata": {},
   "outputs": [
    {
     "data": {
      "text/plain": [
       "8"
      ]
     },
     "execution_count": 35,
     "metadata": {},
     "output_type": "execute_result"
    }
   ],
   "source": [
    "rocket.PaperQuality.isnull().sum()\n",
    "\n"
   ]
  },
  {
   "cell_type": "code",
   "execution_count": 36,
   "id": "1033927c",
   "metadata": {},
   "outputs": [],
   "source": [
    "rocket.PaperQuality.fillna(\"others\",inplace=True)\n"
   ]
  },
  {
   "cell_type": "code",
   "execution_count": 38,
   "id": "d757805b",
   "metadata": {},
   "outputs": [
    {
     "data": {
      "text/plain": [
       "B         47\n",
       "A         33\n",
       "others     8\n",
       "Name: PaperQuality, dtype: int64"
      ]
     },
     "execution_count": 38,
     "metadata": {},
     "output_type": "execute_result"
    }
   ],
   "source": [
    "rocket.PaperQuality.value_counts()"
   ]
  },
  {
   "cell_type": "code",
   "execution_count": 39,
   "id": "f27038d8",
   "metadata": {},
   "outputs": [
    {
     "data": {
      "text/plain": [
       "4"
      ]
     },
     "execution_count": 39,
     "metadata": {},
     "output_type": "execute_result"
    }
   ],
   "source": [
    "rocket.Angle.isnull().sum()"
   ]
  },
  {
   "cell_type": "code",
   "execution_count": 40,
   "id": "fa22e44a",
   "metadata": {},
   "outputs": [
    {
     "data": {
      "text/plain": [
       "U    62\n",
       "L    22\n",
       "Name: Angle, dtype: int64"
      ]
     },
     "execution_count": 40,
     "metadata": {},
     "output_type": "execute_result"
    }
   ],
   "source": [
    "rocket.Angle.value_counts()"
   ]
  },
  {
   "cell_type": "code",
   "execution_count": 41,
   "id": "963c4fcb",
   "metadata": {},
   "outputs": [],
   "source": [
    "rocket.Angle.fillna('U',inplace=True)"
   ]
  },
  {
   "cell_type": "code",
   "execution_count": 42,
   "id": "080056e1",
   "metadata": {},
   "outputs": [
    {
     "data": {
      "text/plain": [
       "U    66\n",
       "L    22\n",
       "Name: Angle, dtype: int64"
      ]
     },
     "execution_count": 42,
     "metadata": {},
     "output_type": "execute_result"
    }
   ],
   "source": [
    "rocket.Angle.value_counts()\n"
   ]
  },
  {
   "cell_type": "code",
   "execution_count": 43,
   "id": "8179fa02",
   "metadata": {},
   "outputs": [
    {
     "name": "stderr",
     "output_type": "stream",
     "text": [
      "C:\\Anconda\\lib\\site-packages\\seaborn\\_decorators.py:36: FutureWarning: Pass the following variable as a keyword arg: x. From version 0.12, the only valid positional argument will be `data`, and passing other arguments without an explicit keyword will result in an error or misinterpretation.\n",
      "  warnings.warn(\n"
     ]
    },
    {
     "data": {
      "text/plain": [
       "<AxesSubplot:xlabel='Angle', ylabel='count'>"
      ]
     },
     "execution_count": 43,
     "metadata": {},
     "output_type": "execute_result"
    },
    {
     "data": {
      "image/png": "[encoded data removed]",
      "text/plain": [
       "<Figure size 432x288 with 1 Axes>"
      ]
     },
     "metadata": {
      "needs_background": "light"
     },
     "output_type": "display_data"
    }
   ],
   "source": [
    "sns.countplot(rocket.Angle)"
   ]
  },
  {
   "cell_type": "code",
   "execution_count": 44,
   "id": "86a4aae2",
   "metadata": {},
   "outputs": [
    {
     "data": {
      "text/plain": [
       "0"
      ]
     },
     "execution_count": 44,
     "metadata": {},
     "output_type": "execute_result"
    }
   ],
   "source": [
    "rocket.Foldings.isnull().sum()"
   ]
  },
  {
   "cell_type": "code",
   "execution_count": 47,
   "id": "0d87e8fb",
   "metadata": {},
   "outputs": [
    {
     "data": {
      "text/plain": [
       "8.0     42\n",
       "10.0    30\n",
       "5.0     16\n",
       "Name: Foldings, dtype: int64"
      ]
     },
     "execution_count": 47,
     "metadata": {},
     "output_type": "execute_result"
    }
   ],
   "source": [
    "rocket.Foldings.value_counts()"
   ]
  },
  {
   "cell_type": "code",
   "execution_count": 48,
   "id": "1835f564",
   "metadata": {},
   "outputs": [],
   "source": [
    "rocket.Foldings.replace([5,8,10],['five','eight','ten'],inplace=True)\n",
    "\n"
   ]
  },
  {
   "cell_type": "code",
   "execution_count": 49,
   "id": "640bd594",
   "metadata": {},
   "outputs": [
    {
     "name": "stderr",
     "output_type": "stream",
     "text": [
      "C:\\Anconda\\lib\\site-packages\\seaborn\\_decorators.py:36: FutureWarning: Pass the following variable as a keyword arg: x. From version 0.12, the only valid positional argument will be `data`, and passing other arguments without an explicit keyword will result in an error or misinterpretation.\n",
      "  warnings.warn(\n"
     ]
    },
    {
     "data": {
      "text/plain": [
       "<AxesSubplot:xlabel='Foldings', ylabel='count'>"
      ]
     },
     "execution_count": 49,
     "metadata": {},
     "output_type": "execute_result"
    },
    {
     "data": {
      "image/png": "[encoded data removed]",
      "text/plain": [
       "<Figure size 432x288 with 1 Axes>"
      ]
     },
     "metadata": {
      "needs_background": "light"
     },
     "output_type": "display_data"
    }
   ],
   "source": [
    "sns.countplot(rocket.Foldings)"
   ]
  },
  {
   "cell_type": "code",
   "execution_count": 50,
   "id": "79588461",
   "metadata": {},
   "outputs": [
    {
     "data": {
      "text/plain": [
       "0"
      ]
     },
     "execution_count": 50,
     "metadata": {},
     "output_type": "execute_result"
    }
   ],
   "source": [
    "rocket.Dominanthand.isnull().sum()"
   ]
  },
  {
   "cell_type": "code",
   "execution_count": 54,
   "id": "57a047c1",
   "metadata": {},
   "outputs": [
    {
     "data": {
      "text/plain": [
       "R    70\n",
       "L    18\n",
       "Name: Dominanthand, dtype: int64"
      ]
     },
     "execution_count": 54,
     "metadata": {},
     "output_type": "execute_result"
    }
   ],
   "source": [
    "rocket.Dominanthand.value_counts()"
   ]
  },
  {
   "cell_type": "code",
   "execution_count": 55,
   "id": "29c50fdc",
   "metadata": {},
   "outputs": [
    {
     "name": "stderr",
     "output_type": "stream",
     "text": [
      "C:\\Anconda\\lib\\site-packages\\seaborn\\_decorators.py:36: FutureWarning: Pass the following variable as a keyword arg: x. From version 0.12, the only valid positional argument will be `data`, and passing other arguments without an explicit keyword will result in an error or misinterpretation.\n",
      "  warnings.warn(\n"
     ]
    },
    {
     "data": {
      "text/plain": [
       "<AxesSubplot:xlabel='Dominanthand', ylabel='count'>"
      ]
     },
     "execution_count": 55,
     "metadata": {},
     "output_type": "execute_result"
    },
    {
     "data": {
      "image/png": "[encoded data removed]",
      "text/plain": [
       "<Figure size 432x288 with 1 Axes>"
      ]
     },
     "metadata": {
      "needs_background": "light"
     },
     "output_type": "display_data"
    }
   ],
   "source": [
    "sns.countplot(rocket.Dominanthand)"
   ]
  },
  {
   "cell_type": "code",
   "execution_count": 56,
   "id": "8b7099ba",
   "metadata": {},
   "outputs": [
    {
     "data": {
      "text/plain": [
       "0"
      ]
     },
     "execution_count": 56,
     "metadata": {},
     "output_type": "execute_result"
    }
   ],
   "source": [
    "rocket.Distance.isnull().sum()"
   ]
  },
  {
   "cell_type": "code",
   "execution_count": 57,
   "id": "b9cacdb9",
   "metadata": {},
   "outputs": [
    {
     "data": {
      "text/plain": [
       "{'whiskers': [<matplotlib.lines.Line2D at 0x2b0fb313e50>,\n",
       "  <matplotlib.lines.Line2D at 0x2b0fd20d220>],\n",
       " 'caps': [<matplotlib.lines.Line2D at 0x2b0fd20d5b0>,\n",
       "  <matplotlib.lines.Line2D at 0x2b0fd20d940>],\n",
       " 'boxes': [<matplotlib.lines.Line2D at 0x2b0fb313ac0>],\n",
       " 'medians': [<matplotlib.lines.Line2D at 0x2b0fd20dcd0>],\n",
       " 'fliers': [<matplotlib.lines.Line2D at 0x2b0fd2180a0>],\n",
       " 'means': []}"
      ]
     },
     "execution_count": 57,
     "metadata": {},
     "output_type": "execute_result"
    },
    {
     "data": {
      "image/png": "[encoded data removed]",
      "text/plain": [
       "<Figure size 432x288 with 1 Axes>"
      ]
     },
     "metadata": {
      "needs_background": "light"
     },
     "output_type": "display_data"
    }
   ],
   "source": [
    "plt.boxplot(rocket.Distance)"
   ]
  },
  {
   "cell_type": "code",
   "execution_count": 58,
   "id": "43d55151",
   "metadata": {},
   "outputs": [
    {
     "name": "stderr",
     "output_type": "stream",
     "text": [
      "C:\\Anconda\\lib\\site-packages\\seaborn\\_decorators.py:36: FutureWarning: Pass the following variable as a keyword arg: x. From version 0.12, the only valid positional argument will be `data`, and passing other arguments without an explicit keyword will result in an error or misinterpretation.\n",
      "  warnings.warn(\n"
     ]
    },
    {
     "data": {
      "text/plain": [
       "<AxesSubplot:xlabel='Distance', ylabel='count'>"
      ]
     },
     "execution_count": 58,
     "metadata": {},
     "output_type": "execute_result"
    },
    {
     "data": {
      "image/png": "[encoded data removed]",
      "text/plain": [
       "<Figure size 432x288 with 1 Axes>"
      ]
     },
     "metadata": {
      "needs_background": "light"
     },
     "output_type": "display_data"
    }
   ],
   "source": [
    "sns.countplot(rocket.Distance)\n",
    "\n"
   ]
  },
  {
   "cell_type": "code",
   "execution_count": 59,
   "id": "74b7f9a3",
   "metadata": {},
   "outputs": [
    {
     "data": {
      "text/plain": [
       "F_onewayResult(statistic=0.15659317629306732, pvalue=0.9251619563983894)"
      ]
     },
     "execution_count": 59,
     "metadata": {},
     "output_type": "execute_result"
    }
   ],
   "source": [
    "from scipy import stats\n",
    "import statsmodels.api as  sm\n",
    "per1=rocket.Distance[rocket.Person==\"Priya\"]\n",
    "per2=rocket.Distance[rocket.Person==\"Giri\"]\n",
    "per3=rocket.Distance[rocket.Person==\"Kevin\"]\n",
    "per4=rocket.Distance[rocket.Person==\"Shabana\"]\n",
    "stats.f_oneway(per1,per2,per3,per4)\n"
   ]
  },
  {
   "cell_type": "code",
   "execution_count": 60,
   "id": "6a2b21ea",
   "metadata": {},
   "outputs": [
    {
     "data": {
      "text/plain": [
       "F_onewayResult(statistic=0.8508501911282383, pvalue=0.4306562061930561)"
      ]
     },
     "execution_count": 60,
     "metadata": {},
     "output_type": "execute_result"
    }
   ],
   "source": [
    "per1=rocket.Distance[rocket.PaperQuality==\"A\"]\n",
    "per2=rocket.Distance[rocket.PaperQuality==\"B\"]\n",
    "per3=rocket.Distance[rocket.PaperQuality==\"others\"]\n",
    "stats.f_oneway(per1,per2,per3)\n"
   ]
  },
  {
   "cell_type": "code",
   "execution_count": 61,
   "id": "d94a3b6f",
   "metadata": {},
   "outputs": [
    {
     "data": {
      "text/plain": [
       "F_onewayResult(statistic=0.01536537430766485, pvalue=0.9016384670871649)"
      ]
     },
     "execution_count": 61,
     "metadata": {},
     "output_type": "execute_result"
    }
   ],
   "source": [
    "per1=rocket.Distance[rocket.Angle==\"U\"]\n",
    "per2=rocket.Distance[rocket.Angle==\"L\"]\n",
    "stats.f_oneway(per1,per2)\n",
    "\n"
   ]
  },
  {
   "cell_type": "code",
   "execution_count": 62,
   "id": "1cf86d4a",
   "metadata": {},
   "outputs": [
    {
     "data": {
      "text/plain": [
       "F_onewayResult(statistic=0.5123419286713021, pvalue=0.47606580733526194)"
      ]
     },
     "execution_count": 62,
     "metadata": {},
     "output_type": "execute_result"
    }
   ],
   "source": [
    "per1=rocket.Distance[rocket.Dominanthand==\"R\"]\n",
    "per2=rocket.Distance[rocket.Dominanthand==\"L\"]\n",
    "stats.f_oneway(per1,per2)"
   ]
  },
  {
   "cell_type": "code",
   "execution_count": 63,
   "id": "d6147854",
   "metadata": {},
   "outputs": [],
   "source": [
    "from sklearn.preprocessing import MinMaxScaler \n",
    "from sklearn.model_selection import train_test_split\n",
    "from sklearn.linear_model import LogisticRegression as LR\n",
    "from sklearn.tree import DecisionTreeClassifier \n",
    "from sklearn.linear_model import LinearRegression as LS\n"
   ]
  },
  {
   "cell_type": "code",
   "execution_count": 64,
   "id": "1ee0cd10",
   "metadata": {},
   "outputs": [
    {
     "name": "stdout",
     "output_type": "stream",
     "text": [
      "(0.041693020613278266, 0.6997257388750459)\n"
     ]
    }
   ],
   "source": [
    "strength=stats.pearsonr(rocket.Length,rocket.Distance)\n",
    "print(strength)"
   ]
  },
  {
   "cell_type": "code",
   "execution_count": 65,
   "id": "aca2af9e",
   "metadata": {},
   "outputs": [
    {
     "name": "stdout",
     "output_type": "stream",
     "text": [
      "(-0.11301512607156519, 0.29446338462214466)\n"
     ]
    }
   ],
   "source": [
    "strength=stats.pearsonr(rocket.Breadth,rocket.Distance)\n",
    "print(strength)"
   ]
  },
  {
   "cell_type": "code",
   "execution_count": 66,
   "id": "be8f1c76",
   "metadata": {},
   "outputs": [],
   "source": [
    "rocket.drop('Item_Identifier',axis=1,inplace=True)"
   ]
  },
  {
   "cell_type": "code",
   "execution_count": 67,
   "id": "db882cc2",
   "metadata": {},
   "outputs": [
    {
     "data": {
      "text/plain": [
       "Index(['Person', 'Length', 'Breadth', 'PaperQuality', 'Angle', 'Foldings',\n",
       "       'Windspeed ', 'Dominanthand', 'Distance'],\n",
       "      dtype='object')"
      ]
     },
     "execution_count": 67,
     "metadata": {},
     "output_type": "execute_result"
    }
   ],
   "source": [
    "rocket.columns"
   ]
  },
  {
   "cell_type": "code",
   "execution_count": 68,
   "id": "89346e06",
   "metadata": {},
   "outputs": [],
   "source": [
    "dummy_var=pd.get_dummies(rocket)"
   ]
  },
  {
   "cell_type": "code",
   "execution_count": 73,
   "id": "40948aaa",
   "metadata": {},
   "outputs": [
    {
     "data": {
      "text/plain": [
       "Index(['Length', 'Breadth', 'Distance', 'Person_Giri', 'Person_Kevin',\n",
       "       'Person_Priya', 'Person_Shabana', 'PaperQuality_A', 'PaperQuality_B',\n",
       "       'PaperQuality_others', 'Angle_L', 'Angle_U', 'Foldings_eight',\n",
       "       'Foldings_five', 'Foldings_ten', 'Windspeed _Off', 'Windspeed _On',\n",
       "       'Dominanthand_L', 'Dominanthand_R'],\n",
       "      dtype='object')"
      ]
     },
     "execution_count": 73,
     "metadata": {},
     "output_type": "execute_result"
    }
   ],
   "source": [
    "dummy_var.columns"
   ]
  },
  {
   "cell_type": "code",
   "execution_count": 74,
   "id": "a75befcd",
   "metadata": {},
   "outputs": [],
   "source": [
    "scaler= MinMaxScaler ()\n"
   ]
  },
  {
   "cell_type": "code",
   "execution_count": 75,
   "id": "262152a7",
   "metadata": {},
   "outputs": [],
   "source": [
    "scaler_data=scaler.fit(dummy_var)"
   ]
  },
  {
   "cell_type": "code",
   "execution_count": 76,
   "id": "300a2064",
   "metadata": {},
   "outputs": [],
   "source": [
    "scaler_data=scaler.transform(dummy_var)"
   ]
  },
  {
   "cell_type": "code",
   "execution_count": 79,
   "id": "99cc1e7a",
   "metadata": {},
   "outputs": [],
   "source": [
    "scaler_data=pd.DataFrame(scaler_data)"
   ]
  },
  {
   "cell_type": "code",
   "execution_count": 78,
   "id": "302874dd",
   "metadata": {},
   "outputs": [
    {
     "data": {
      "text/html": [
       "<div>\n",
       "<style scoped>\n",
       "    .dataframe tbody tr th:only-of-type {\n",
       "        vertical-align: middle;\n",
       "    }\n",
       "\n",
       "    .dataframe tbody tr th {\n",
       "        vertical-align: top;\n",
       "    }\n",
       "\n",
       "    .dataframe thead th {\n",
       "        text-align: right;\n",
       "    }\n",
       "</style>\n",
       "<table border=\"1\" class=\"dataframe\">\n",
       "  <thead>\n",
       "    <tr style=\"text-align: right;\">\n",
       "      <th></th>\n",
       "      <th>0</th>\n",
       "      <th>1</th>\n",
       "      <th>2</th>\n",
       "      <th>3</th>\n",
       "      <th>4</th>\n",
       "      <th>5</th>\n",
       "      <th>6</th>\n",
       "      <th>7</th>\n",
       "      <th>8</th>\n",
       "      <th>9</th>\n",
       "      <th>10</th>\n",
       "      <th>11</th>\n",
       "      <th>12</th>\n",
       "      <th>13</th>\n",
       "      <th>14</th>\n",
       "      <th>15</th>\n",
       "      <th>16</th>\n",
       "      <th>17</th>\n",
       "      <th>18</th>\n",
       "    </tr>\n",
       "  </thead>\n",
       "  <tbody>\n",
       "    <tr>\n",
       "      <th>0</th>\n",
       "      <td>0.295918</td>\n",
       "      <td>0.888889</td>\n",
       "      <td>0.4</td>\n",
       "      <td>0.0</td>\n",
       "      <td>1.0</td>\n",
       "      <td>0.0</td>\n",
       "      <td>0.0</td>\n",
       "      <td>1.0</td>\n",
       "      <td>0.0</td>\n",
       "      <td>0.0</td>\n",
       "      <td>0.0</td>\n",
       "      <td>1.0</td>\n",
       "      <td>1.0</td>\n",
       "      <td>0.0</td>\n",
       "      <td>0.0</td>\n",
       "      <td>0.0</td>\n",
       "      <td>1.0</td>\n",
       "      <td>1.0</td>\n",
       "      <td>0.0</td>\n",
       "    </tr>\n",
       "    <tr>\n",
       "      <th>1</th>\n",
       "      <td>0.234694</td>\n",
       "      <td>0.000000</td>\n",
       "      <td>0.4</td>\n",
       "      <td>0.0</td>\n",
       "      <td>1.0</td>\n",
       "      <td>0.0</td>\n",
       "      <td>0.0</td>\n",
       "      <td>0.0</td>\n",
       "      <td>1.0</td>\n",
       "      <td>0.0</td>\n",
       "      <td>0.0</td>\n",
       "      <td>1.0</td>\n",
       "      <td>1.0</td>\n",
       "      <td>0.0</td>\n",
       "      <td>0.0</td>\n",
       "      <td>0.0</td>\n",
       "      <td>1.0</td>\n",
       "      <td>1.0</td>\n",
       "      <td>0.0</td>\n",
       "    </tr>\n",
       "    <tr>\n",
       "      <th>2</th>\n",
       "      <td>0.272535</td>\n",
       "      <td>0.444444</td>\n",
       "      <td>0.5</td>\n",
       "      <td>0.0</td>\n",
       "      <td>1.0</td>\n",
       "      <td>0.0</td>\n",
       "      <td>0.0</td>\n",
       "      <td>1.0</td>\n",
       "      <td>0.0</td>\n",
       "      <td>0.0</td>\n",
       "      <td>1.0</td>\n",
       "      <td>0.0</td>\n",
       "      <td>0.0</td>\n",
       "      <td>0.0</td>\n",
       "      <td>1.0</td>\n",
       "      <td>0.0</td>\n",
       "      <td>1.0</td>\n",
       "      <td>0.0</td>\n",
       "      <td>1.0</td>\n",
       "    </tr>\n",
       "    <tr>\n",
       "      <th>3</th>\n",
       "      <td>0.275510</td>\n",
       "      <td>0.888889</td>\n",
       "      <td>0.3</td>\n",
       "      <td>0.0</td>\n",
       "      <td>0.0</td>\n",
       "      <td>1.0</td>\n",
       "      <td>0.0</td>\n",
       "      <td>1.0</td>\n",
       "      <td>0.0</td>\n",
       "      <td>0.0</td>\n",
       "      <td>0.0</td>\n",
       "      <td>1.0</td>\n",
       "      <td>0.0</td>\n",
       "      <td>0.0</td>\n",
       "      <td>1.0</td>\n",
       "      <td>0.0</td>\n",
       "      <td>1.0</td>\n",
       "      <td>0.0</td>\n",
       "      <td>1.0</td>\n",
       "    </tr>\n",
       "    <tr>\n",
       "      <th>4</th>\n",
       "      <td>0.301020</td>\n",
       "      <td>0.333333</td>\n",
       "      <td>0.7</td>\n",
       "      <td>0.0</td>\n",
       "      <td>0.0</td>\n",
       "      <td>1.0</td>\n",
       "      <td>0.0</td>\n",
       "      <td>0.0</td>\n",
       "      <td>1.0</td>\n",
       "      <td>0.0</td>\n",
       "      <td>0.0</td>\n",
       "      <td>1.0</td>\n",
       "      <td>0.0</td>\n",
       "      <td>1.0</td>\n",
       "      <td>0.0</td>\n",
       "      <td>1.0</td>\n",
       "      <td>0.0</td>\n",
       "      <td>0.0</td>\n",
       "      <td>1.0</td>\n",
       "    </tr>\n",
       "  </tbody>\n",
       "</table>\n",
       "</div>"
      ],
      "text/plain": [
       "         0         1    2    3    4    5    6    7    8    9    10   11   12  \\\n",
       "0  0.295918  0.888889  0.4  0.0  1.0  0.0  0.0  1.0  0.0  0.0  0.0  1.0  1.0   \n",
       "1  0.234694  0.000000  0.4  0.0  1.0  0.0  0.0  0.0  1.0  0.0  0.0  1.0  1.0   \n",
       "2  0.272535  0.444444  0.5  0.0  1.0  0.0  0.0  1.0  0.0  0.0  1.0  0.0  0.0   \n",
       "3  0.275510  0.888889  0.3  0.0  0.0  1.0  0.0  1.0  0.0  0.0  0.0  1.0  0.0   \n",
       "4  0.301020  0.333333  0.7  0.0  0.0  1.0  0.0  0.0  1.0  0.0  0.0  1.0  0.0   \n",
       "\n",
       "    13   14   15   16   17   18  \n",
       "0  0.0  0.0  0.0  1.0  1.0  0.0  \n",
       "1  0.0  0.0  0.0  1.0  1.0  0.0  \n",
       "2  0.0  1.0  0.0  1.0  0.0  1.0  \n",
       "3  0.0  1.0  0.0  1.0  0.0  1.0  \n",
       "4  1.0  0.0  1.0  0.0  0.0  1.0  "
      ]
     },
     "execution_count": 78,
     "metadata": {},
     "output_type": "execute_result"
    }
   ],
   "source": [
    "scaler_data.head()"
   ]
  },
  {
   "cell_type": "code",
   "execution_count": 82,
   "id": "1100ee76",
   "metadata": {},
   "outputs": [],
   "source": [
    "y=dummy_var.Distance\n"
   ]
  },
  {
   "cell_type": "code",
   "execution_count": 83,
   "id": "6fd5dcb2",
   "metadata": {},
   "outputs": [],
   "source": [
    "x=dummy_var.drop('Distance',axis=1)"
   ]
  },
  {
   "cell_type": "code",
   "execution_count": 84,
   "id": "955c2ed9",
   "metadata": {},
   "outputs": [],
   "source": [
    "train_x,test_x,train_y,test_y=train_test_split(x,y,test_size=0.2,random_state=100)"
   ]
  },
  {
   "cell_type": "code",
   "execution_count": 86,
   "id": "c81df4e4",
   "metadata": {},
   "outputs": [
    {
     "name": "stderr",
     "output_type": "stream",
     "text": [
      "C:\\Anconda\\lib\\site-packages\\sklearn\\linear_model\\_logistic.py:763: ConvergenceWarning: lbfgs failed to converge (status=1):\n",
      "STOP: TOTAL NO. of ITERATIONS REACHED LIMIT.\n",
      "\n",
      "Increase the number of iterations (max_iter) or scale the data as shown in:\n",
      "    https://scikit-learn.org/stable/modules/preprocessing.html\n",
      "Please also refer to the documentation for alternative solver options:\n",
      "    https://scikit-learn.org/stable/modules/linear_model.html#logistic-regression\n",
      "  n_iter_i = _check_optimize_result(\n"
     ]
    }
   ],
   "source": [
    "model=LR(random_state=0).fit(train_x,train_y)"
   ]
  },
  {
   "cell_type": "code",
   "execution_count": 87,
   "id": "6357d07f",
   "metadata": {},
   "outputs": [],
   "source": [
    "predicted_y=model.predict(test_x)\n",
    "\n"
   ]
  },
  {
   "cell_type": "code",
   "execution_count": 88,
   "id": "571ec4e8",
   "metadata": {},
   "outputs": [
    {
     "data": {
      "text/plain": [
       "0.16666666666666666"
      ]
     },
     "execution_count": 88,
     "metadata": {},
     "output_type": "execute_result"
    }
   ],
   "source": [
    "probability_y=model.predict_proba(test_x)\n",
    "model.score(test_x,test_y)\n"
   ]
  },
  {
   "cell_type": "code",
   "execution_count": 89,
   "id": "99a6d364",
   "metadata": {},
   "outputs": [
    {
     "data": {
      "text/plain": [
       "0.16666666666666666"
      ]
     },
     "execution_count": 89,
     "metadata": {},
     "output_type": "execute_result"
    }
   ],
   "source": [
    "model_tree=DecisionTreeClassifier().fit(train_x,train_y)  \n",
    "model_tree.score(test_x,test_y)"
   ]
  },
  {
   "cell_type": "code",
   "execution_count": 90,
   "id": "8bf7e75a",
   "metadata": {},
   "outputs": [],
   "source": [
    "model1=LS().fit(train_x,train_y)"
   ]
  },
  {
   "cell_type": "code",
   "execution_count": 91,
   "id": "f34427df",
   "metadata": {},
   "outputs": [
    {
     "data": {
      "text/plain": [
       "0.1741448217647048"
      ]
     },
     "execution_count": 91,
     "metadata": {},
     "output_type": "execute_result"
    }
   ],
   "source": [
    "model1.score(train_x,train_y)\n"
   ]
  },
  {
   "cell_type": "code",
   "execution_count": 92,
   "id": "5a6dc876",
   "metadata": {},
   "outputs": [
    {
     "data": {
      "text/plain": [
       "0.1104014534518758"
      ]
     },
     "execution_count": 92,
     "metadata": {},
     "output_type": "execute_result"
    }
   ],
   "source": [
    "model1.score(x,y)\n",
    "\n"
   ]
  },
  {
   "cell_type": "code",
   "execution_count": null,
   "id": "c53bc88b",
   "metadata": {},
   "outputs": [],
   "source": []
  }
 ],
 "metadata": {
  "kernelspec": {
   "display_name": "Python 3 (ipykernel)",
   "language": "python",
   "name": "python3"
  },
  "language_info": {
   "codemirror_mode": {
    "name": "ipython",
    "version": 3
   },
   "file_extension": ".py",
   "mimetype": "text/x-python",
   "name": "python",
   "nbconvert_exporter": "python",
   "pygments_lexer": "ipython3",
   "version": "3.9.7"
  }
 },
 "nbformat": 4,
 "nbformat_minor": 5
}
