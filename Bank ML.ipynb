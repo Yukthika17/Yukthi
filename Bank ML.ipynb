{
 "cells": [
  {
   "cell_type": "code",
   "execution_count": 1,
   "id": "a3c0d2eb",
   "metadata": {},
   "outputs": [],
   "source": [
    "import pandas as pd"
   ]
  },
  {
   "cell_type": "code",
   "execution_count": 3,
   "id": "969b65a6",
   "metadata": {},
   "outputs": [],
   "source": [
    "df=pd.read_csv(\"C:/Users/DeLL cOrE I5/Downloads/Paper1/bank.csv\")\n"
   ]
  },
  {
   "cell_type": "code",
   "execution_count": 4,
   "id": "a518402f",
   "metadata": {},
   "outputs": [],
   "source": [
    "df = pd.read_csv(\"C:/Users/DeLL cOrE I5/Downloads/Paper1/MonthWiseMarketArrivals_Clean.csv\",sep = ';')\n"
   ]
  },
  {
   "cell_type": "code",
   "execution_count": 7,
   "id": "97ae26a9",
   "metadata": {},
   "outputs": [
    {
     "data": {
      "text/html": [
       "<div>\n",
       "<style scoped>\n",
       "    .dataframe tbody tr th:only-of-type {\n",
       "        vertical-align: middle;\n",
       "    }\n",
       "\n",
       "    .dataframe tbody tr th {\n",
       "        vertical-align: top;\n",
       "    }\n",
       "\n",
       "    .dataframe thead th {\n",
       "        text-align: right;\n",
       "    }\n",
       "</style>\n",
       "<table border=\"1\" class=\"dataframe\">\n",
       "  <thead>\n",
       "    <tr style=\"text-align: right;\">\n",
       "      <th></th>\n",
       "      <th>market,month,year,quantity,priceMin,priceMax,priceMod,state,city,date</th>\n",
       "    </tr>\n",
       "  </thead>\n",
       "  <tbody>\n",
       "    <tr>\n",
       "      <th>count</th>\n",
       "      <td>10227</td>\n",
       "    </tr>\n",
       "    <tr>\n",
       "      <th>unique</th>\n",
       "      <td>10227</td>\n",
       "    </tr>\n",
       "    <tr>\n",
       "      <th>top</th>\n",
       "      <td>ABOHAR(PB),January,2005,2350,404,493,446,PB,AB...</td>\n",
       "    </tr>\n",
       "    <tr>\n",
       "      <th>freq</th>\n",
       "      <td>1</td>\n",
       "    </tr>\n",
       "  </tbody>\n",
       "</table>\n",
       "</div>"
      ],
      "text/plain": [
       "       market,month,year,quantity,priceMin,priceMax,priceMod,state,city,date\n",
       "count                                               10227                   \n",
       "unique                                              10227                   \n",
       "top     ABOHAR(PB),January,2005,2350,404,493,446,PB,AB...                   \n",
       "freq                                                    1                   "
      ]
     },
     "execution_count": 7,
     "metadata": {},
     "output_type": "execute_result"
    }
   ],
   "source": [
    "df.describe()"
   ]
  },
  {
   "cell_type": "code",
   "execution_count": 8,
   "id": "f0c00ab1",
   "metadata": {},
   "outputs": [
    {
     "name": "stdout",
     "output_type": "stream",
     "text": [
      "<class 'pandas.core.frame.DataFrame'>\n",
      "RangeIndex: 10227 entries, 0 to 10226\n",
      "Data columns (total 1 columns):\n",
      " #   Column                                                                 Non-Null Count  Dtype \n",
      "---  ------                                                                 --------------  ----- \n",
      " 0   market,month,year,quantity,priceMin,priceMax,priceMod,state,city,date  10227 non-null  object\n",
      "dtypes: object(1)\n",
      "memory usage: 80.0+ KB\n"
     ]
    }
   ],
   "source": [
    "df.info()"
   ]
  },
  {
   "cell_type": "code",
   "execution_count": 10,
   "id": "9a3f33d2",
   "metadata": {},
   "outputs": [
    {
     "data": {
      "text/plain": [
       "market,month,year,quantity,priceMin,priceMax,priceMod,state,city,date\n",
       "ABOHAR(PB),April,2006,2100,326,400,366,PB,ABOHAR,April-2006              1\n",
       "NAGPUR,December,2005,12921,571,650,610,MS,NAGPUR,December-2005           1\n",
       "NAGPUR,August,2009,87228,527,796,661,MS,NAGPUR,August-2009               1\n",
       "NAGPUR,August,2010,63489,668,968,808,MS,NAGPUR,August-2010               1\n",
       "NAGPUR,August,2011,23065,1080,1318,1200,MS,NAGPUR,August-2011            1\n",
       "                                                                        ..\n",
       "HUBLI(KNT),March,2004,17050,207,518,425,KNT,HUBLI,March-2004             1\n",
       "HUBLI(KNT),March,2005,17100,143,351,293,KNT,HUBLI,March-2005             1\n",
       "HUBLI(KNT),March,2006,20300,120,346,294,KNT,HUBLI,March-2006             1\n",
       "HUBLI(KNT),March,2007,37130,272,771,670,KNT,HUBLI,March-2007             1\n",
       "YEOLA(MS),September,2015,25374,1606,4621,4044,MS,YEOLA,September-2015    1\n",
       "Length: 10227, dtype: int64"
      ]
     },
     "execution_count": 10,
     "metadata": {},
     "output_type": "execute_result"
    }
   ],
   "source": [
    "df.value_counts()\n"
   ]
  },
  {
   "cell_type": "code",
   "execution_count": 12,
   "id": "bc307bdc",
   "metadata": {},
   "outputs": [
    {
     "data": {
      "text/html": [
       "<div>\n",
       "<style scoped>\n",
       "    .dataframe tbody tr th:only-of-type {\n",
       "        vertical-align: middle;\n",
       "    }\n",
       "\n",
       "    .dataframe tbody tr th {\n",
       "        vertical-align: top;\n",
       "    }\n",
       "\n",
       "    .dataframe thead th {\n",
       "        text-align: right;\n",
       "    }\n",
       "</style>\n",
       "<table border=\"1\" class=\"dataframe\">\n",
       "  <thead>\n",
       "    <tr style=\"text-align: right;\">\n",
       "      <th></th>\n",
       "      <th>market,month,year,quantity,priceMin,priceMax,priceMod,state,city,date</th>\n",
       "    </tr>\n",
       "  </thead>\n",
       "  <tbody>\n",
       "    <tr>\n",
       "      <th>0</th>\n",
       "      <td>ABOHAR(PB),January,2005,2350,404,493,446,PB,AB...</td>\n",
       "    </tr>\n",
       "    <tr>\n",
       "      <th>1</th>\n",
       "      <td>ABOHAR(PB),January,2006,900,487,638,563,PB,ABO...</td>\n",
       "    </tr>\n",
       "    <tr>\n",
       "      <th>2</th>\n",
       "      <td>ABOHAR(PB),January,2010,790,1283,1592,1460,PB,...</td>\n",
       "    </tr>\n",
       "    <tr>\n",
       "      <th>3</th>\n",
       "      <td>ABOHAR(PB),January,2011,245,3067,3750,3433,PB,...</td>\n",
       "    </tr>\n",
       "    <tr>\n",
       "      <th>4</th>\n",
       "      <td>ABOHAR(PB),January,2012,1035,523,686,605,PB,AB...</td>\n",
       "    </tr>\n",
       "  </tbody>\n",
       "</table>\n",
       "</div>"
      ],
      "text/plain": [
       "  market,month,year,quantity,priceMin,priceMax,priceMod,state,city,date\n",
       "0  ABOHAR(PB),January,2005,2350,404,493,446,PB,AB...                   \n",
       "1  ABOHAR(PB),January,2006,900,487,638,563,PB,ABO...                   \n",
       "2  ABOHAR(PB),January,2010,790,1283,1592,1460,PB,...                   \n",
       "3  ABOHAR(PB),January,2011,245,3067,3750,3433,PB,...                   \n",
       "4  ABOHAR(PB),January,2012,1035,523,686,605,PB,AB...                   "
      ]
     },
     "execution_count": 12,
     "metadata": {},
     "output_type": "execute_result"
    }
   ],
   "source": [
    "df.head()"
   ]
  },
  {
   "cell_type": "code",
   "execution_count": 13,
   "id": "e6e38bd9",
   "metadata": {
    "scrolled": true
   },
   "outputs": [
    {
     "data": {
      "text/plain": [
       "market,month,year,quantity,priceMin,priceMax,priceMod,state,city,date    0\n",
       "dtype: int64"
      ]
     },
     "execution_count": 13,
     "metadata": {},
     "output_type": "execute_result"
    }
   ],
   "source": [
    "df.isnull().sum()"
   ]
  },
  {
   "cell_type": "code",
   "execution_count": null,
   "id": "c04fe39a",
   "metadata": {},
   "outputs": [],
   "source": [
    "y1 = df['y']"
   ]
  },
  {
   "cell_type": "code",
   "execution_count": null,
   "id": "c7158404",
   "metadata": {},
   "outputs": [],
   "source": [
    "import numpy as np\n",
    "import pandas as pd\n",
    "import matplotlib.pyplot as plt\n",
    "import seaborn as sns\n",
    "get_ipython().run_line_magic('matplotlib', 'inline')"
   ]
  },
  {
   "cell_type": "code",
   "execution_count": null,
   "id": "6a6bbc89",
   "metadata": {},
   "outputs": [],
   "source": [
    "num_var = [\"age\",\"duration\",\"campaign\", \"pdays\", \"previous\",\"emp.var.rate\", \"cons.price.idx\", \"cons.conf.idx\", \"euribor3m\", \"nr.employed\"]\n"
   ]
  },
  {
   "cell_type": "code",
   "execution_count": null,
   "id": "b32aebe7",
   "metadata": {},
   "outputs": [],
   "source": [
    "for i in num_var:\n",
    "  sns.boxplot(x = y1,y = i,data = df)\n",
    "  plt.show();\n"
   ]
  },
  {
   "cell_type": "code",
   "execution_count": null,
   "id": "5c91ea0b",
   "metadata": {},
   "outputs": [],
   "source": [
    "plt.figure(figsize = (10,10))\n",
    "sns.heatmap(df.corr())\n",
    "plt.show()"
   ]
  },
  {
   "cell_type": "code",
   "execution_count": null,
   "id": "174f13b1",
   "metadata": {},
   "outputs": [],
   "source": [
    "cat_var=[i for i in df.columns if i not in num_var]"
   ]
  },
  {
   "cell_type": "code",
   "execution_count": null,
   "id": "accf69f8",
   "metadata": {},
   "outputs": [],
   "source": [
    "y1 = y1.values\n"
   ]
  },
  {
   "cell_type": "code",
   "execution_count": 22,
   "id": "bcf11dbd",
   "metadata": {},
   "outputs": [],
   "source": [
    "df1 = pd.get_dummies(df)\n"
   ]
  },
  {
   "cell_type": "code",
   "execution_count": null,
   "id": "e8fdbc5e",
   "metadata": {},
   "outputs": [],
   "source": [
    "df1.info()"
   ]
  },
  {
   "cell_type": "code",
   "execution_count": null,
   "id": "6316080e",
   "metadata": {},
   "outputs": [],
   "source": [
    "ax = sns.regplot(x=\"emp.var.rate\", y=\"y_yes\", order=1, data=df1, truncate=True)\n"
   ]
  },
  {
   "cell_type": "code",
   "execution_count": null,
   "id": "22323282",
   "metadata": {},
   "outputs": [],
   "source": [
    "sns.regplot(x=\"nr.employed\", y=\"y_yes\", order=1, data=df1, truncate=True)\n"
   ]
  },
  {
   "cell_type": "code",
   "execution_count": null,
   "id": "5fedc1c6",
   "metadata": {},
   "outputs": [],
   "source": [
    "sns.regplot(x=\"age\", y=\"y_yes\", order=3, data=df1, truncate=True);\n"
   ]
  },
  {
   "cell_type": "code",
   "execution_count": null,
   "id": "91e122d1",
   "metadata": {},
   "outputs": [],
   "source": [
    "sns.regplot(x=\"duration\", y=\"y_yes\", order=1, data=df1, truncate=True);"
   ]
  },
  {
   "cell_type": "code",
   "execution_count": null,
   "id": "59068d2f",
   "metadata": {},
   "outputs": [],
   "source": [
    "sns.regplot(x=\"contact_telephone\", y=\"y_yes\", order=1, data=df1, truncate=True)\n",
    "\n"
   ]
  },
  {
   "cell_type": "code",
   "execution_count": null,
   "id": "25b60b7d",
   "metadata": {},
   "outputs": [],
   "source": [
    "sns.regplot(x=\"month_sep\", y=\"y_yes\", order=1, data=df1, truncate=True)\n",
    "\n"
   ]
  },
  {
   "cell_type": "code",
   "execution_count": null,
   "id": "b350b2c5",
   "metadata": {},
   "outputs": [],
   "source": [
    "sns.regplot(x=\"cons.conf.idx\", y=\"y_yes\", order=1, data=df1, truncate=True)\n"
   ]
  },
  {
   "cell_type": "code",
   "execution_count": null,
   "id": "7f23317f",
   "metadata": {},
   "outputs": [],
   "source": [
    "sns.regplot(x=\"education_unknown\", y=\"y_yes\", order=1, data=df1, truncate=True)"
   ]
  },
  {
   "cell_type": "code",
   "execution_count": null,
   "id": "612aff91",
   "metadata": {},
   "outputs": [],
   "source": [
    "sns.regplot(x=\"euribor3m\", y=\"y_yes\", order=1, data=df1, truncate=True)\n"
   ]
  },
  {
   "cell_type": "code",
   "execution_count": null,
   "id": "78ff7cb8",
   "metadata": {},
   "outputs": [],
   "source": [
    "sns.regplot(x=\"age\", y=\"y_yes\", order=3, data=df1, truncate=True);"
   ]
  },
  {
   "cell_type": "code",
   "execution_count": null,
   "id": "131fa543",
   "metadata": {},
   "outputs": [],
   "source": [
    "sns.regplot(x=\"campaign\", y=\"y_yes\", order=1, data=df1, truncate=True)"
   ]
  },
  {
   "cell_type": "code",
   "execution_count": null,
   "id": "d7f34e24",
   "metadata": {},
   "outputs": [],
   "source": [
    "df1.loc[(df1['campaign'] >15) & (df1['y_yes']==1)]"
   ]
  },
  {
   "cell_type": "code",
   "execution_count": null,
   "id": "51772873",
   "metadata": {},
   "outputs": [],
   "source": [
    "y_yes1 = df1['y_yes']\n",
    "y_no1 = df1['y_no']\n"
   ]
  },
  {
   "cell_type": "code",
   "execution_count": null,
   "id": "cefbdb8f",
   "metadata": {},
   "outputs": [],
   "source": [
    "from sklearn.ensemble import RandomForestClassifier\n",
    "forest = RandomForestClassifier(n_estimators=350,\n",
    "                                random_state=0)\n",
    "forest.fit(df1,y1)\n",
    "importances = forest.feature_importances_\n",
    "std = np.std([tree.feature_importances_ for tree in forest.estimators_],\n",
    "             axis=0)\n",
    "indices = np.argsort(importances)[::-1]"
   ]
  },
  {
   "cell_type": "code",
   "execution_count": null,
   "id": "bb68532b",
   "metadata": {},
   "outputs": [],
   "source": [
    "print(\"Feature ranking:\")\n",
    "for f in range(df1.shape[1]):\n",
    "    print(\"%d. %s: %f \" % (f + 1, df1.columns[indices[f]], importances[indices[f]]))\n"
   ]
  },
  {
   "cell_type": "code",
   "execution_count": null,
   "id": "60cb8130",
   "metadata": {},
   "outputs": [],
   "source": [
    "plt.figure()\n",
    "plt.figure(figsize=(15,10))\n",
    "plt.title(\"Feature importances\")\n",
    "plt.bar(range(df1.shape[1]), importances[indices],color=\"b\", yerr=std[indices], align=\"center\")\n",
    "plt.xticks(range(df1.shape[1]), indices)\n",
    "plt.xlim([-1, df1.shape[1]])\n",
    "plt.show()"
   ]
  },
  {
   "cell_type": "code",
   "execution_count": null,
   "id": "444eaa71",
   "metadata": {},
   "outputs": [],
   "source": [
    "from sklearn.neighbors import KNeighborsClassifier\n",
    "from sklearn.model_selection import train_test_split\n",
    "\n",
    "\n"
   ]
  },
  {
   "cell_type": "code",
   "execution_count": null,
   "id": "982307f6",
   "metadata": {},
   "outputs": [],
   "source": [
    "X_train, X_test, y_train, y_test = train_test_split(df1, y1, test_size=0.2, random_state=1, stratify=y1)\n"
   ]
  },
  {
   "cell_type": "code",
   "execution_count": null,
   "id": "6000d2dc",
   "metadata": {},
   "outputs": [],
   "source": [
    "from sklearn.metrics import accuracy_score\n",
    "\n",
    "for i in range(10,300,10):\n",
    "    knn = KNeighborsClassifier(n_neighbors=i)\n",
    "    knn.fit(X_train, y_train)\n",
    "\n",
    "    print(accuracy_score(knn.predict(X_test),y_test))\n",
    "\n"
   ]
  },
  {
   "cell_type": "code",
   "execution_count": null,
   "id": "fd0cfac0",
   "metadata": {},
   "outputs": [],
   "source": [
    "t = pd.DataFrame()\n",
    "t['y_yes'] = y_yes1\n",
    "t['y_no'] = y_no1\n",
    "t.head()"
   ]
  },
  {
   "cell_type": "code",
   "execution_count": null,
   "id": "d2f66246",
   "metadata": {},
   "outputs": [],
   "source": [
    "print(\"For age upto 30\")\n",
    "print(\"Nth Call \\t Efficiency\")\n",
    "for i in range(1,30):\n",
    "    num = float(df1[(df1['age'] <= 30) & (df1['campaign']==i) & (t['y_yes']==1)].shape[0])\n",
    "    den = 1+float(df1[(df1['age'] <= 30) & (df['campaign'] >= i)].shape[0])\n",
    "    print (str((i))+\" \\t\\t \"+str(num/den))\n"
   ]
  },
  {
   "cell_type": "code",
   "execution_count": null,
   "id": "788ccec8",
   "metadata": {},
   "outputs": [],
   "source": [
    "print(\"For age between 30-40\")\n",
    "print(\"Nth Call \\t Efficiency\")\n",
    "for i in range(1,30):\n",
    "    num = float(df1[(df1['age'] <= 40) & (df1['age'] > 30) & (df1['campaign']==i) & (t['y_yes']==1)].shape[0])\n",
    "    den = 1+float(df[(df['age'] <= 40) & (df['age'] > 30) & (df['campaign'] >= i)].shape[0])\n",
    "    print (str((i))+\" \\t\\t \"+str(num/den))\n"
   ]
  },
  {
   "cell_type": "code",
   "execution_count": null,
   "id": "c19d9b86",
   "metadata": {},
   "outputs": [],
   "source": [
    "total_calls = sum(df1['campaign'])\n",
    "print(total_calls)\n",
    "\n"
   ]
  },
  {
   "cell_type": "code",
   "execution_count": null,
   "id": "b57d9bf5",
   "metadata": {},
   "outputs": [],
   "source": [
    "extra_calls = sum(df1[df1['campaign']>6]['campaign']) - 6*df1[df1['campaign']>6].shape[0]\n",
    "print(extra_calls)\n"
   ]
  },
  {
   "cell_type": "code",
   "execution_count": null,
   "id": "0d1e62a3",
   "metadata": {},
   "outputs": [],
   "source": [
    "reduction=100*extra_calls/total_calls\n",
    "print(reduction)\n",
    "\n"
   ]
  },
  {
   "cell_type": "code",
   "execution_count": null,
   "id": "74091c09",
   "metadata": {},
   "outputs": [],
   "source": [
    "total_sales=float(t[t['y_yes']==1].shape[0])\n",
    "print(total_sales)\n",
    "\n"
   ]
  },
  {
   "cell_type": "code",
   "execution_count": null,
   "id": "7a2c36ff",
   "metadata": {},
   "outputs": [],
   "source": [
    "less_costly_sales=float(df[(df['campaign'] <= 6) & (t['y_yes']==1)].shape[0])\n",
    "print(less_costly_sales)"
   ]
  },
  {
   "cell_type": "code",
   "execution_count": null,
   "id": "3cf1cfa8",
   "metadata": {},
   "outputs": [],
   "source": [
    "sales_percent=100*less_costly_sales/total_sales\n",
    "print(sales_percent)\n"
   ]
  },
  {
   "cell_type": "code",
   "execution_count": null,
   "id": "d2394f92",
   "metadata": {},
   "outputs": [],
   "source": []
  },
  {
   "cell_type": "code",
   "execution_count": null,
   "id": "5dbe09dc",
   "metadata": {},
   "outputs": [],
   "source": []
  }
 ],
 "metadata": {
  "kernelspec": {
   "display_name": "Python 3 (ipykernel)",
   "language": "python",
   "name": "python3"
  },
  "language_info": {
   "codemirror_mode": {
    "name": "ipython",
    "version": 3
   },
   "file_extension": ".py",
   "mimetype": "text/x-python",
   "name": "python",
   "nbconvert_exporter": "python",
   "pygments_lexer": "ipython3",
   "version": "3.9.7"
  }
 },
 "nbformat": 4,
 "nbformat_minor": 5
}
